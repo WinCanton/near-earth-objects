{
 "cells": [
  {
   "cell_type": "code",
   "execution_count": 3,
   "id": "0393a8c4",
   "metadata": {},
   "outputs": [],
   "source": [
    "import pandas as pd"
   ]
  },
  {
   "cell_type": "code",
   "execution_count": 8,
   "id": "8021fa54",
   "metadata": {},
   "outputs": [
    {
     "name": "stderr",
     "output_type": "stream",
     "text": [
      "/Users/martinsimanjuntak/Documents/GITHUB/Udacity/INTERMEDIATE-PYTHON/.venv/lib/python3.9/site-packages/IPython/core/interactiveshell.py:3169: DtypeWarning: Columns (4,5,16,23,24,70) have mixed types.Specify dtype option on import or set low_memory=False.\n",
      "  has_raised = await self.run_ast_nodes(code_ast.body, cell_name,\n"
     ]
    },
    {
     "data": {
      "text/html": [
       "<div>\n",
       "<style scoped>\n",
       "    .dataframe tbody tr th:only-of-type {\n",
       "        vertical-align: middle;\n",
       "    }\n",
       "\n",
       "    .dataframe tbody tr th {\n",
       "        vertical-align: top;\n",
       "    }\n",
       "\n",
       "    .dataframe thead th {\n",
       "        text-align: right;\n",
       "    }\n",
       "</style>\n",
       "<table border=\"1\" class=\"dataframe\">\n",
       "  <thead>\n",
       "    <tr style=\"text-align: right;\">\n",
       "      <th></th>\n",
       "      <th>id</th>\n",
       "      <th>spkid</th>\n",
       "      <th>full_name</th>\n",
       "      <th>pdes</th>\n",
       "      <th>name</th>\n",
       "      <th>prefix</th>\n",
       "      <th>neo</th>\n",
       "      <th>pha</th>\n",
       "      <th>H</th>\n",
       "      <th>G</th>\n",
       "      <th>...</th>\n",
       "      <th>n_obs_used</th>\n",
       "      <th>n_del_obs_used</th>\n",
       "      <th>n_dop_obs_used</th>\n",
       "      <th>condition_code</th>\n",
       "      <th>rms</th>\n",
       "      <th>two_body</th>\n",
       "      <th>A1</th>\n",
       "      <th>A2</th>\n",
       "      <th>A3</th>\n",
       "      <th>DT</th>\n",
       "    </tr>\n",
       "  </thead>\n",
       "  <tbody>\n",
       "    <tr>\n",
       "      <th>0</th>\n",
       "      <td>a0000433</td>\n",
       "      <td>2000433</td>\n",
       "      <td>433 Eros (A898 PA)</td>\n",
       "      <td>433</td>\n",
       "      <td>Eros</td>\n",
       "      <td>NaN</td>\n",
       "      <td>Y</td>\n",
       "      <td>N</td>\n",
       "      <td>10.4</td>\n",
       "      <td>0.46</td>\n",
       "      <td>...</td>\n",
       "      <td>8767</td>\n",
       "      <td>4.0</td>\n",
       "      <td>2.0</td>\n",
       "      <td>0.0</td>\n",
       "      <td>0.283970</td>\n",
       "      <td>NaN</td>\n",
       "      <td>NaN</td>\n",
       "      <td>NaN</td>\n",
       "      <td>NaN</td>\n",
       "      <td>NaN</td>\n",
       "    </tr>\n",
       "    <tr>\n",
       "      <th>1</th>\n",
       "      <td>a0000719</td>\n",
       "      <td>2000719</td>\n",
       "      <td>719 Albert (A911 TB)</td>\n",
       "      <td>719</td>\n",
       "      <td>Albert</td>\n",
       "      <td>NaN</td>\n",
       "      <td>Y</td>\n",
       "      <td>N</td>\n",
       "      <td>15.5</td>\n",
       "      <td>NaN</td>\n",
       "      <td>...</td>\n",
       "      <td>1874</td>\n",
       "      <td>NaN</td>\n",
       "      <td>NaN</td>\n",
       "      <td>0.0</td>\n",
       "      <td>0.391480</td>\n",
       "      <td>NaN</td>\n",
       "      <td>NaN</td>\n",
       "      <td>NaN</td>\n",
       "      <td>NaN</td>\n",
       "      <td>NaN</td>\n",
       "    </tr>\n",
       "    <tr>\n",
       "      <th>2</th>\n",
       "      <td>a0000887</td>\n",
       "      <td>2000887</td>\n",
       "      <td>887 Alinda (A918 AA)</td>\n",
       "      <td>887</td>\n",
       "      <td>Alinda</td>\n",
       "      <td>NaN</td>\n",
       "      <td>Y</td>\n",
       "      <td>N</td>\n",
       "      <td>13.8</td>\n",
       "      <td>-0.12</td>\n",
       "      <td>...</td>\n",
       "      <td>1424</td>\n",
       "      <td>NaN</td>\n",
       "      <td>NaN</td>\n",
       "      <td>0.0</td>\n",
       "      <td>0.481590</td>\n",
       "      <td>NaN</td>\n",
       "      <td>NaN</td>\n",
       "      <td>NaN</td>\n",
       "      <td>NaN</td>\n",
       "      <td>NaN</td>\n",
       "    </tr>\n",
       "    <tr>\n",
       "      <th>3</th>\n",
       "      <td>a0001036</td>\n",
       "      <td>2001036</td>\n",
       "      <td>1036 Ganymed (A924 UB)</td>\n",
       "      <td>1036</td>\n",
       "      <td>Ganymed</td>\n",
       "      <td>NaN</td>\n",
       "      <td>Y</td>\n",
       "      <td>N</td>\n",
       "      <td>9.4</td>\n",
       "      <td>0.30</td>\n",
       "      <td>...</td>\n",
       "      <td>6249</td>\n",
       "      <td>0.0</td>\n",
       "      <td>1.0</td>\n",
       "      <td>0.0</td>\n",
       "      <td>0.385250</td>\n",
       "      <td>NaN</td>\n",
       "      <td>NaN</td>\n",
       "      <td>NaN</td>\n",
       "      <td>NaN</td>\n",
       "      <td>NaN</td>\n",
       "    </tr>\n",
       "    <tr>\n",
       "      <th>4</th>\n",
       "      <td>a0001221</td>\n",
       "      <td>2001221</td>\n",
       "      <td>1221 Amor (1932 EA1)</td>\n",
       "      <td>1221</td>\n",
       "      <td>Amor</td>\n",
       "      <td>NaN</td>\n",
       "      <td>Y</td>\n",
       "      <td>N</td>\n",
       "      <td>17.7</td>\n",
       "      <td>NaN</td>\n",
       "      <td>...</td>\n",
       "      <td>540</td>\n",
       "      <td>NaN</td>\n",
       "      <td>NaN</td>\n",
       "      <td>0.0</td>\n",
       "      <td>0.455680</td>\n",
       "      <td>NaN</td>\n",
       "      <td>NaN</td>\n",
       "      <td>NaN</td>\n",
       "      <td>NaN</td>\n",
       "      <td>NaN</td>\n",
       "    </tr>\n",
       "    <tr>\n",
       "      <th>...</th>\n",
       "      <td>...</td>\n",
       "      <td>...</td>\n",
       "      <td>...</td>\n",
       "      <td>...</td>\n",
       "      <td>...</td>\n",
       "      <td>...</td>\n",
       "      <td>...</td>\n",
       "      <td>...</td>\n",
       "      <td>...</td>\n",
       "      <td>...</td>\n",
       "      <td>...</td>\n",
       "      <td>...</td>\n",
       "      <td>...</td>\n",
       "      <td>...</td>\n",
       "      <td>...</td>\n",
       "      <td>...</td>\n",
       "      <td>...</td>\n",
       "      <td>...</td>\n",
       "      <td>...</td>\n",
       "      <td>...</td>\n",
       "      <td>...</td>\n",
       "    </tr>\n",
       "    <tr>\n",
       "      <th>23962</th>\n",
       "      <td>dK19Y04d</td>\n",
       "      <td>1003675</td>\n",
       "      <td>C/2019 Y4-D (ATLAS)</td>\n",
       "      <td>2019 Y4-D</td>\n",
       "      <td>ATLAS</td>\n",
       "      <td>C</td>\n",
       "      <td>Y</td>\n",
       "      <td>NaN</td>\n",
       "      <td>NaN</td>\n",
       "      <td>NaN</td>\n",
       "      <td>...</td>\n",
       "      <td>74</td>\n",
       "      <td>NaN</td>\n",
       "      <td>NaN</td>\n",
       "      <td>9.0</td>\n",
       "      <td>0.892760</td>\n",
       "      <td>NaN</td>\n",
       "      <td>NaN</td>\n",
       "      <td>NaN</td>\n",
       "      <td>NaN</td>\n",
       "      <td>NaN</td>\n",
       "    </tr>\n",
       "    <tr>\n",
       "      <th>23963</th>\n",
       "      <td>dK20G010</td>\n",
       "      <td>1003672</td>\n",
       "      <td>P/2020 G1 (Pimentel)</td>\n",
       "      <td>2020 G1</td>\n",
       "      <td>Pimentel</td>\n",
       "      <td>P</td>\n",
       "      <td>Y</td>\n",
       "      <td>NaN</td>\n",
       "      <td>NaN</td>\n",
       "      <td>NaN</td>\n",
       "      <td>...</td>\n",
       "      <td>490</td>\n",
       "      <td>NaN</td>\n",
       "      <td>NaN</td>\n",
       "      <td>5.0</td>\n",
       "      <td>0.826490</td>\n",
       "      <td>NaN</td>\n",
       "      <td>NaN</td>\n",
       "      <td>NaN</td>\n",
       "      <td>NaN</td>\n",
       "      <td>NaN</td>\n",
       "    </tr>\n",
       "    <tr>\n",
       "      <th>23964</th>\n",
       "      <td>dK20M030</td>\n",
       "      <td>1003699</td>\n",
       "      <td>C/2020 M3 (ATLAS)</td>\n",
       "      <td>2020 M3</td>\n",
       "      <td>ATLAS</td>\n",
       "      <td>C</td>\n",
       "      <td>Y</td>\n",
       "      <td>NaN</td>\n",
       "      <td>NaN</td>\n",
       "      <td>NaN</td>\n",
       "      <td>...</td>\n",
       "      <td>271</td>\n",
       "      <td>NaN</td>\n",
       "      <td>NaN</td>\n",
       "      <td>5.0</td>\n",
       "      <td>0.459150</td>\n",
       "      <td>NaN</td>\n",
       "      <td>NaN</td>\n",
       "      <td>NaN</td>\n",
       "      <td>NaN</td>\n",
       "      <td>NaN</td>\n",
       "    </tr>\n",
       "    <tr>\n",
       "      <th>23965</th>\n",
       "      <td>dK20P04b</td>\n",
       "      <td>1003715</td>\n",
       "      <td>C/2020 P4-B</td>\n",
       "      <td>2020 P4-B</td>\n",
       "      <td>NaN</td>\n",
       "      <td>C</td>\n",
       "      <td>Y</td>\n",
       "      <td>NaN</td>\n",
       "      <td>NaN</td>\n",
       "      <td>NaN</td>\n",
       "      <td>...</td>\n",
       "      <td>80</td>\n",
       "      <td>NaN</td>\n",
       "      <td>NaN</td>\n",
       "      <td>9.0</td>\n",
       "      <td>0.079265</td>\n",
       "      <td>NaN</td>\n",
       "      <td>NaN</td>\n",
       "      <td>NaN</td>\n",
       "      <td>NaN</td>\n",
       "      <td>NaN</td>\n",
       "    </tr>\n",
       "    <tr>\n",
       "      <th>23966</th>\n",
       "      <td>dK20P04c</td>\n",
       "      <td>1003716</td>\n",
       "      <td>C/2020 P4-C</td>\n",
       "      <td>2020 P4-C</td>\n",
       "      <td>NaN</td>\n",
       "      <td>C</td>\n",
       "      <td>Y</td>\n",
       "      <td>NaN</td>\n",
       "      <td>NaN</td>\n",
       "      <td>NaN</td>\n",
       "      <td>...</td>\n",
       "      <td>29</td>\n",
       "      <td>NaN</td>\n",
       "      <td>NaN</td>\n",
       "      <td>9.0</td>\n",
       "      <td>0.024266</td>\n",
       "      <td>NaN</td>\n",
       "      <td>NaN</td>\n",
       "      <td>NaN</td>\n",
       "      <td>NaN</td>\n",
       "      <td>NaN</td>\n",
       "    </tr>\n",
       "  </tbody>\n",
       "</table>\n",
       "<p>23967 rows × 75 columns</p>\n",
       "</div>"
      ],
      "text/plain": [
       "             id    spkid                  full_name       pdes      name  \\\n",
       "0      a0000433  2000433         433 Eros (A898 PA)        433      Eros   \n",
       "1      a0000719  2000719       719 Albert (A911 TB)        719    Albert   \n",
       "2      a0000887  2000887       887 Alinda (A918 AA)        887    Alinda   \n",
       "3      a0001036  2001036     1036 Ganymed (A924 UB)       1036   Ganymed   \n",
       "4      a0001221  2001221       1221 Amor (1932 EA1)       1221      Amor   \n",
       "...         ...      ...                        ...        ...       ...   \n",
       "23962  dK19Y04d  1003675        C/2019 Y4-D (ATLAS)  2019 Y4-D     ATLAS   \n",
       "23963  dK20G010  1003672       P/2020 G1 (Pimentel)    2020 G1  Pimentel   \n",
       "23964  dK20M030  1003699          C/2020 M3 (ATLAS)    2020 M3     ATLAS   \n",
       "23965  dK20P04b  1003715                C/2020 P4-B  2020 P4-B       NaN   \n",
       "23966  dK20P04c  1003716                C/2020 P4-C  2020 P4-C       NaN   \n",
       "\n",
       "      prefix neo  pha     H     G  ...  n_obs_used  n_del_obs_used  \\\n",
       "0        NaN   Y    N  10.4  0.46  ...        8767             4.0   \n",
       "1        NaN   Y    N  15.5   NaN  ...        1874             NaN   \n",
       "2        NaN   Y    N  13.8 -0.12  ...        1424             NaN   \n",
       "3        NaN   Y    N   9.4  0.30  ...        6249             0.0   \n",
       "4        NaN   Y    N  17.7   NaN  ...         540             NaN   \n",
       "...      ...  ..  ...   ...   ...  ...         ...             ...   \n",
       "23962      C   Y  NaN   NaN   NaN  ...          74             NaN   \n",
       "23963      P   Y  NaN   NaN   NaN  ...         490             NaN   \n",
       "23964      C   Y  NaN   NaN   NaN  ...         271             NaN   \n",
       "23965      C   Y  NaN   NaN   NaN  ...          80             NaN   \n",
       "23966      C   Y  NaN   NaN   NaN  ...          29             NaN   \n",
       "\n",
       "       n_dop_obs_used  condition_code       rms  two_body  A1  A2  A3  DT  \n",
       "0                 2.0             0.0  0.283970       NaN NaN NaN NaN NaN  \n",
       "1                 NaN             0.0  0.391480       NaN NaN NaN NaN NaN  \n",
       "2                 NaN             0.0  0.481590       NaN NaN NaN NaN NaN  \n",
       "3                 1.0             0.0  0.385250       NaN NaN NaN NaN NaN  \n",
       "4                 NaN             0.0  0.455680       NaN NaN NaN NaN NaN  \n",
       "...               ...             ...       ...       ...  ..  ..  ..  ..  \n",
       "23962             NaN             9.0  0.892760       NaN NaN NaN NaN NaN  \n",
       "23963             NaN             5.0  0.826490       NaN NaN NaN NaN NaN  \n",
       "23964             NaN             5.0  0.459150       NaN NaN NaN NaN NaN  \n",
       "23965             NaN             9.0  0.079265       NaN NaN NaN NaN NaN  \n",
       "23966             NaN             9.0  0.024266       NaN NaN NaN NaN NaN  \n",
       "\n",
       "[23967 rows x 75 columns]"
      ]
     },
     "execution_count": 8,
     "metadata": {},
     "output_type": "execute_result"
    }
   ],
   "source": [
    "neos = pd.read_csv('data/neos.csv'); neos"
   ]
  },
  {
   "cell_type": "code",
   "execution_count": 15,
   "id": "d9066fc1",
   "metadata": {},
   "outputs": [
    {
     "data": {
      "text/plain": [
       "188"
      ]
     },
     "execution_count": 15,
     "metadata": {},
     "output_type": "execute_result"
    }
   ],
   "source": [
    "neos['pha'].isna().sum()"
   ]
  },
  {
   "cell_type": "code",
   "execution_count": 2,
   "id": "232d7adb",
   "metadata": {},
   "outputs": [],
   "source": [
    "import csv"
   ]
  },
  {
   "cell_type": "code",
   "execution_count": 17,
   "id": "915dc937",
   "metadata": {},
   "outputs": [
    {
     "name": "stdout",
     "output_type": "stream",
     "text": [
      "{'pdes': '433', 'name': 'Eros', 'pha': 'N', 'diameter': '16.84'}\n",
      "{'pdes': '719', 'name': 'Albert', 'pha': 'N', 'diameter': ''}\n",
      "{'pdes': '887', 'name': 'Alinda', 'pha': 'N', 'diameter': '4.2'}\n",
      "{'pdes': '1036', 'name': 'Ganymed', 'pha': 'N', 'diameter': '37.675'}\n",
      "{'pdes': '1221', 'name': 'Amor', 'pha': 'N', 'diameter': '1.0'}\n",
      "{'pdes': '1566', 'name': 'Icarus', 'pha': 'Y', 'diameter': '1.0'}\n"
     ]
    }
   ],
   "source": [
    "with open('data/neos.csv', 'r') as f:\n",
    "    reader = csv.DictReader(f)\n",
    "    i = 0\n",
    "    for item in reader:\n",
    "        print({k: v for k, v in item.items() if k in ['pdes', 'name', 'diameter', 'pha']})\n",
    "        i += 1\n",
    "        if i > 5:\n",
    "            break"
   ]
  },
  {
   "cell_type": "code",
   "execution_count": 41,
   "id": "2025d026",
   "metadata": {},
   "outputs": [
    {
     "name": "stdout",
     "output_type": "stream",
     "text": [
      "{'id': 'a0000433', 'spkid': '2000433', 'full_name': '   433 Eros (A898 PA)', 'pdes': '433', 'name': 'Eros', 'prefix': '', 'neo': 'Y', 'pha': 'N', 'H': '10.4', 'G': '0.46', 'M1': '', 'M2': '', 'K1': '', 'K2': '', 'PC': '', 'diameter': '16.84', 'extent': '34.4x11.2x11.2', 'albedo': '0.25', 'rot_per': '5.270', 'GM': '4.463e-04', 'BV': '0.921', 'UB': '0.531', 'IR': '', 'spec_B': 'S', 'spec_T': 'S', 'H_sigma': '', 'diameter_sigma': '0.06', 'orbit_id': 'JPL 658', 'epoch': '2459000.5', 'epoch_mjd': '59000', 'epoch_cal': '20200531.0000000', 'equinox': 'J2000', 'e': '.2229512647434284', 'a': '1.458045729081037', 'q': '1.132972589728666', 'i': '10.83054121829922', 'om': '304.2993259000444', 'w': '178.8822959227224', 'ma': '271.0717325705167', 'ad': '1.783118868433408', 'n': '.5598186418120109', 'tp': '2459159.351922368362', 'tp_cal': '20201105.8519224', 'per': '643.0654021001488', 'per_y': '1.76061711731731', 'moid': '.148623', 'moid_ld': '57.83961291', 'moid_jup': '3.2865', 't_jup': '4.582', 'sigma_e': '9.6497E-9', 'sigma_a': '2.1374E-10', 'sigma_q': '1.4063E-8', 'sigma_i': '1.1645E-6', 'sigma_om': '3.8525E-6', 'sigma_w': '4.088E-6', 'sigma_ma': '1.4389E-6', 'sigma_ad': '2.6139E-10', 'sigma_n': '1.231E-10', 'sigma_tp': '2.5792E-6', 'sigma_per': '1.414E-7', 'class': 'AMO', 'producer': 'Giorgini', 'data_arc': '46330', 'first_obs': '1893-10-29', 'last_obs': '2020-09-03', 'n_obs_used': '8767', 'n_del_obs_used': '4', 'n_dop_obs_used': '2', 'condition_code': '0', 'rms': '.28397', 'two_body': '', 'A1': '', 'A2': '', 'A3': '', 'DT': ''}\n",
      "{'id': 'a0000719', 'spkid': '2000719', 'full_name': '   719 Albert (A911 TB)', 'pdes': '719', 'name': 'Albert', 'prefix': '', 'neo': 'Y', 'pha': 'N', 'H': '15.5', 'G': '', 'M1': '', 'M2': '', 'K1': '', 'K2': '', 'PC': '', 'diameter': '', 'extent': '', 'albedo': '', 'rot_per': '5.801', 'GM': '', 'BV': '', 'UB': '', 'IR': '', 'spec_B': 'S', 'spec_T': '', 'H_sigma': '', 'diameter_sigma': '', 'orbit_id': 'JPL 214', 'epoch': '2459000.5', 'epoch_mjd': '59000', 'epoch_cal': '20200531.0000000', 'equinox': 'J2000', 'e': '.5465584653041263', 'a': '2.63860206439375', 'q': '1.196451769530403', 'i': '11.56748478123323', 'om': '183.8669499802364', 'w': '156.17633771', 'ma': '140.2734217745985', 'ad': '4.080752359257098', 'n': '.2299551959241748', 'tp': '2458390.496728663387', 'tp_cal': '20180928.9967287', 'per': '1565.522355575327', 'per_y': '4.28616661348481', 'moid': '.203482', 'moid_ld': '79.18908994', 'moid_jup': '1.41794', 't_jup': '3.140', 'sigma_e': '2.1784E-8', 'sigma_a': '2.5313E-9', 'sigma_q': '5.8116E-8', 'sigma_i': '2.9108E-6', 'sigma_om': '1.6575E-5', 'sigma_w': '1.6827E-5', 'sigma_ma': '2.5213E-6', 'sigma_ad': '3.9148E-9', 'sigma_n': '3.309E-10', 'sigma_tp': '1.0306E-5', 'sigma_per': '2.2528E-6', 'class': 'AMO', 'producer': 'Otto Matic', 'data_arc': '39593', 'first_obs': '1911-10-04', 'last_obs': '2020-02-27', 'n_obs_used': '1874', 'n_del_obs_used': '', 'n_dop_obs_used': '', 'condition_code': '0', 'rms': '.39148', 'two_body': '', 'A1': '', 'A2': '', 'A3': '', 'DT': ''}\n",
      "{'id': 'a0000887', 'spkid': '2000887', 'full_name': '   887 Alinda (A918 AA)', 'pdes': '887', 'name': 'Alinda', 'prefix': '', 'neo': 'Y', 'pha': 'N', 'H': '13.8', 'G': '-0.12', 'M1': '', 'M2': '', 'K1': '', 'K2': '', 'PC': '', 'diameter': '4.2', 'extent': '', 'albedo': '0.31', 'rot_per': '73.97', 'GM': '', 'BV': '0.832', 'UB': '0.436', 'IR': '', 'spec_B': '', 'spec_T': 'S', 'H_sigma': '', 'diameter_sigma': '', 'orbit_id': 'JPL 266', 'epoch': '2459000.5', 'epoch_mjd': '59000', 'epoch_cal': '20200531.0000000', 'equinox': 'J2000', 'e': '.5703317184308986', 'a': '2.473736929707675', 'q': '1.062886295641521', 'i': '9.393855031979152', 'om': '110.4342521969208', 'w': '350.4955456805043', 'ma': '294.5791651788778', 'ad': '3.884587563773828', 'n': '.2533225231442171', 'tp': '2459258.751157493319', 'tp_cal': '20210213.2511575', 'per': '1421.113273039094', 'per_y': '3.89079609319396', 'moid': '.082217', 'moid_ld': '31.99638989', 'moid_jup': '1.31457', 't_jup': '3.221', 'sigma_e': '4.3543E-8', 'sigma_a': '6.0468E-9', 'sigma_q': '1.0944E-7', 'sigma_i': '4.6115E-6', 'sigma_om': '2.6493E-5', 'sigma_w': '2.7378E-5', 'sigma_ma': '9.6421E-6', 'sigma_ad': '9.4955E-9', 'sigma_n': '9.2884E-10', 'sigma_tp': '3.8951E-5', 'sigma_per': '5.2107E-6', 'class': 'AMO', 'producer': 'Otto Matic', 'data_arc': '37472', 'first_obs': '1918-02-03', 'last_obs': '2020-09-07', 'n_obs_used': '1424', 'n_del_obs_used': '', 'n_dop_obs_used': '', 'condition_code': '0', 'rms': '.48159', 'two_body': '', 'A1': '', 'A2': '', 'A3': '', 'DT': ''}\n",
      "{'id': 'a0001036', 'spkid': '2001036', 'full_name': '  1036 Ganymed (A924 UB)', 'pdes': '1036', 'name': 'Ganymed', 'prefix': '', 'neo': 'Y', 'pha': 'N', 'H': '9.4', 'G': '0.30', 'M1': '', 'M2': '', 'K1': '', 'K2': '', 'PC': '', 'diameter': '37.675', 'extent': '', 'albedo': '0.238', 'rot_per': '10.297', 'GM': '', 'BV': '0.842', 'UB': '0.417', 'IR': '', 'spec_B': 'S', 'spec_T': 'S', 'H_sigma': '', 'diameter_sigma': '0.399', 'orbit_id': 'JPL 794', 'epoch': '2459000.5', 'epoch_mjd': '59000', 'epoch_cal': '20200531.0000000', 'equinox': 'J2000', 'e': '.5330461170258332', 'a': '2.664724624258409', 'q': '1.244303510354342', 'i': '26.67764140004', 'om': '215.5468276713862', 'w': '132.3646326521057', 'ma': '4.817744371561909', 'ad': '4.085145738162476', 'n': '.2265820861894486', 'tp': '2458979.237311265050', 'tp_cal': '20200509.7373113', 'per': '1588.828164019104', 'per_y': '4.34997443947736', 'moid': '.344956', 'moid_ld': '134.24652652', 'moid_jup': '1.9529', 't_jup': '3.035', 'sigma_e': '2.4193E-8', 'sigma_a': '2.0851E-9', 'sigma_q': '6.4477E-8', 'sigma_i': '4.0473E-6', 'sigma_om': '7.1529E-6', 'sigma_w': '7.5739E-6', 'sigma_ma': '2.3009E-6', 'sigma_ad': '3.1965E-9', 'sigma_n': '2.6594E-10', 'sigma_tp': '1.0137E-5', 'sigma_per': '1.8648E-6', 'class': 'AMO', 'producer': 'Otto Matic', 'data_arc': '35027', 'first_obs': '1924-10-23', 'last_obs': '2020-09-16', 'n_obs_used': '6249', 'n_del_obs_used': '0', 'n_dop_obs_used': '1', 'condition_code': '0', 'rms': '.38525', 'two_body': '', 'A1': '', 'A2': '', 'A3': '', 'DT': ''}\n",
      "{'id': 'a0001221', 'spkid': '2001221', 'full_name': '  1221 Amor (1932 EA1)', 'pdes': '1221', 'name': 'Amor', 'prefix': '', 'neo': 'Y', 'pha': 'N', 'H': '17.7', 'G': '', 'M1': '', 'M2': '', 'K1': '', 'K2': '', 'PC': '', 'diameter': '1.0', 'extent': '', 'albedo': '', 'rot_per': '', 'GM': '', 'BV': '', 'UB': '', 'IR': '', 'spec_B': '', 'spec_T': '', 'H_sigma': '', 'diameter_sigma': '', 'orbit_id': 'JPL 101', 'epoch': '2459000.5', 'epoch_mjd': '59000', 'epoch_cal': '20200531.0000000', 'equinox': 'J2000', 'e': '.4352849480969389', 'a': '1.919498150734781', 'q': '1.083969497820022', 'i': '11.8765395826284', 'om': '171.3270073161356', 'w': '26.69479191018597', 'ma': '38.52241014417849', 'ad': '2.755026803649541', 'n': '.3706146024716492', 'tp': '2458896.558034715118', 'tp_cal': '20200217.0580347', 'per': '971.3594596627876', 'per_y': '2.65943726122598', 'moid': '.107451', 'moid_ld': '41.81670567', 'moid_jup': '2.21364', 't_jup': '3.781', 'sigma_e': '3.4983E-8', 'sigma_a': '9.5616E-10', 'sigma_q': '6.7525E-8', 'sigma_i': '4.9915E-6', 'sigma_om': '2.362E-5', 'sigma_w': '2.5439E-5', 'sigma_ma': '8.1275E-6', 'sigma_ad': '1.3724E-9', 'sigma_n': '2.7692E-10', 'sigma_tp': '2.1913E-5', 'sigma_per': '7.258E-7', 'class': 'AMO', 'producer': 'Otto Matic', 'data_arc': '32319', 'first_obs': '1932-03-12', 'last_obs': '2020-09-05', 'n_obs_used': '540', 'n_del_obs_used': '', 'n_dop_obs_used': '', 'condition_code': '0', 'rms': '.45568', 'two_body': '', 'A1': '', 'A2': '', 'A3': '', 'DT': ''}\n",
      "{'id': 'a0001566', 'spkid': '2001566', 'full_name': '  1566 Icarus (1949 MA)', 'pdes': '1566', 'name': 'Icarus', 'prefix': '', 'neo': 'Y', 'pha': 'Y', 'H': '16.9', 'G': '', 'M1': '', 'M2': '', 'K1': '', 'K2': '', 'PC': '', 'diameter': '1.0', 'extent': '', 'albedo': '0.51', 'rot_per': '2.2726', 'GM': '', 'BV': '0.774', 'UB': '0.520', 'IR': '', 'spec_B': '', 'spec_T': '', 'H_sigma': '', 'diameter_sigma': '', 'orbit_id': 'JPL 119', 'epoch': '2459000.5', 'epoch_mjd': '59000', 'epoch_cal': '20200531.0000000', 'equinox': 'J2000', 'e': '.8270213517584103', 'a': '1.078168924356222', 'q': '.186500203111228', 'i': '22.82210584381254', 'om': '87.9975459324354', 'w': '31.39333873322229', 'ma': '192.0831791807477', 'ad': '1.969837645601215', 'n': '.8803874816638403', 'tp': '2459191.230586607055', 'tp_cal': '20201207.7305866', 'per': '408.9108574324997', 'per_y': '1.11953691288843', 'moid': '.0342447', 'moid_ld': '13.327009899', 'moid_jup': '3.21481', 't_jup': '5.298', 'sigma_e': '3.1066E-8', 'sigma_a': '2.7933E-9', 'sigma_q': '3.3477E-8', 'sigma_i': '1.0278E-5', 'sigma_om': '3.6595E-6', 'sigma_w': '5.932E-6', 'sigma_ma': '6.1861E-6', 'sigma_ad': '5.1034E-9', 'sigma_n': '3.4213E-9', 'sigma_tp': '7.7365E-6', 'sigma_per': '1.5891E-6', 'class': 'APO', 'producer': 'Otto Matic', 'data_arc': '26002', 'first_obs': '1949-07-01', 'last_obs': '2020-09-08', 'n_obs_used': '1052', 'n_del_obs_used': '10', 'n_dop_obs_used': '13', 'condition_code': '0', 'rms': '.34334', 'two_body': '', 'A1': '', 'A2': '-3.052890990344277E-15', 'A3': '', 'DT': ''}\n"
     ]
    }
   ],
   "source": [
    "with open('data/neos.csv', 'r') as f:\n",
    "    reader = csv.DictReader(f)\n",
    "    i = 0\n",
    "    for line in reader:\n",
    "        print(line)\n",
    "        i += 1\n",
    "        if i > 5:\n",
    "            break"
   ]
  },
  {
   "cell_type": "code",
   "execution_count": 6,
   "id": "8f017ab4",
   "metadata": {},
   "outputs": [
    {
     "name": "stdout",
     "output_type": "stream",
     "text": [
      "   23968 data/neos.csv\r\n"
     ]
    }
   ],
   "source": [
    "!wc -l data/neos.csv"
   ]
  },
  {
   "cell_type": "code",
   "execution_count": 19,
   "id": "f88feef2",
   "metadata": {},
   "outputs": [],
   "source": [
    "import json"
   ]
  },
  {
   "cell_type": "code",
   "execution_count": 26,
   "id": "e77bed27",
   "metadata": {},
   "outputs": [
    {
     "name": "stdout",
     "output_type": "stream",
     "text": [
      "dict_keys(['signature', 'count', 'fields', 'data'])\n"
     ]
    }
   ],
   "source": [
    "with open('data/cad.json', 'r') as f:\n",
    "    reader = json.load(f)\n",
    "    print(reader.keys())"
   ]
  },
  {
   "cell_type": "code",
   "execution_count": 30,
   "id": "d4db3111",
   "metadata": {},
   "outputs": [
    {
     "name": "stdout",
     "output_type": "stream",
     "text": [
      "<class 'list'>\n",
      "<class 'dict'>\n",
      "<class 'dict'>\n",
      "<class 'dict'>\n",
      "<class 'dict'>\n",
      "<class 'dict'>\n",
      "<class 'dict'>\n"
     ]
    }
   ],
   "source": [
    "with open('data/cad.json', 'r') as f:\n",
    "    reader = json.load(f)\n",
    "    data = reader['data']\n",
    "    print(type(data))\n",
    "    i = 0\n",
    "    ca_data = []\n",
    "    for item in data:\n",
    "        #print(item)\n",
    "        ca_data.append({\"des\": item[0], \"cd\": item[3], \"dist\": item[4], \"v_rel\": item[7]})\n",
    "        i += 1\n",
    "        if i > 5:\n",
    "            break\n",
    "for i in ca_data:\n",
    "    print(type(i))"
   ]
  },
  {
   "cell_type": "code",
   "execution_count": 18,
   "id": "618b1752",
   "metadata": {},
   "outputs": [],
   "source": [
    "import json"
   ]
  },
  {
   "cell_type": "code",
   "execution_count": 21,
   "id": "8419f67d",
   "metadata": {},
   "outputs": [
    {
     "name": "stdout",
     "output_type": "stream",
     "text": [
      "['170903', '105', '2415020.507669610', '1900-Jan-01 00:11', '0.0921795123769547', '0.0912006569517418', '0.0931589328621254', '16.7523040362574', '16.7505784933163', '01:00', '18.1']\n",
      "['2005 OE3', '52', '2415020.606013490', '1900-Jan-01 02:33', '0.414975519685102', '0.414968315685577', '0.414982724454678', '17.918395877175', '17.9180375373357', '< 00:01', '20.3']\n",
      "['2006 XO4', '15', '2415020.634068074', '1900-Jan-01 03:13', '0.114291499199114', '0.114272705486348', '0.114310301346124', '7.39720266467069', '7.3940503943318', '00:23', '23.4']\n",
      "['7088', '233', '2415020.709345747', '1900-Jan-01 05:01', '0.237367466253556', '0.237366346954997', '0.237368585559926', '4.78123058453747', '4.77888225987132', '< 00:01', '16.7']\n",
      "['2017 EE23', '6', '2415020.802629888', '1900-Jan-01 07:16', '0.388708125934362', '0.380148975861157', '0.40205426614884', '9.93428771818077', '9.93359768958909', '7_06:11', '21.7']\n",
      "['2014 YT34', '15', '2415020.979988931', '1900-Jan-01 11:31', '0.265595097262832', '0.26318513986783', '0.268005203882397', '12.9820111475198', '12.9812383543916', '01:28', '24.7']\n"
     ]
    }
   ],
   "source": [
    "with open('data/cad.json', 'r') as f:\n",
    "    reader = json.load(f)\n",
    "    data = reader['data']\n",
    "    count = 0\n",
    "    for i in data:\n",
    "        print(i)\n",
    "        count += 1\n",
    "        if count > 5:\n",
    "            break"
   ]
  },
  {
   "cell_type": "code",
   "execution_count": 26,
   "id": "8bb43c17",
   "metadata": {},
   "outputs": [],
   "source": [
    "a = \"\""
   ]
  },
  {
   "cell_type": "code",
   "execution_count": 27,
   "id": "c165a732",
   "metadata": {},
   "outputs": [
    {
     "name": "stdout",
     "output_type": "stream",
     "text": [
      "None\n"
     ]
    }
   ],
   "source": [
    "b = 5 if a != \"\" else None; print(b)"
   ]
  },
  {
   "cell_type": "code",
   "execution_count": 28,
   "id": "f7c1f1b8",
   "metadata": {},
   "outputs": [
    {
     "data": {
      "text/plain": [
       "True"
      ]
     },
     "execution_count": 28,
     "metadata": {},
     "output_type": "execute_result"
    }
   ],
   "source": [
    "bool('Y')"
   ]
  },
  {
   "cell_type": "code",
   "execution_count": 29,
   "id": "37fe86e9",
   "metadata": {},
   "outputs": [
    {
     "data": {
      "text/plain": [
       "True"
      ]
     },
     "execution_count": 29,
     "metadata": {},
     "output_type": "execute_result"
    }
   ],
   "source": [
    "bool('N')"
   ]
  },
  {
   "cell_type": "code",
   "execution_count": 30,
   "id": "7c12eb79",
   "metadata": {},
   "outputs": [
    {
     "data": {
      "text/plain": [
       "False"
      ]
     },
     "execution_count": 30,
     "metadata": {},
     "output_type": "execute_result"
    }
   ],
   "source": [
    " bool()"
   ]
  },
  {
   "cell_type": "code",
   "execution_count": 38,
   "id": "f95178cc",
   "metadata": {},
   "outputs": [],
   "source": [
    "x = False\n",
    "hz = 'is' if x == True else 'is not'"
   ]
  },
  {
   "cell_type": "code",
   "execution_count": 39,
   "id": "a2dea29d",
   "metadata": {},
   "outputs": [
    {
     "name": "stdout",
     "output_type": "stream",
     "text": [
      "Hello is not variabvle\n"
     ]
    }
   ],
   "source": [
    "print(f\"Hello {hz} variabvle\")"
   ]
  },
  {
   "cell_type": "code",
   "execution_count": 35,
   "id": "e3111c74",
   "metadata": {},
   "outputs": [
    {
     "name": "stdout",
     "output_type": "stream",
     "text": [
      "Hello [is / is not]\n"
     ]
    }
   ],
   "source": [
    "print(f\"Hello [is / is not]\")"
   ]
  },
  {
   "cell_type": "code",
   "execution_count": 37,
   "id": "ebe486b4",
   "metadata": {},
   "outputs": [],
   "source": [
    " x = {'abc': {'pdes': 'dfadsf', 'approaches': []}}"
   ]
  },
  {
   "cell_type": "code",
   "execution_count": 38,
   "id": "da89bf1a",
   "metadata": {},
   "outputs": [
    {
     "data": {
      "text/plain": [
       "{'abc': {'pdes': 'dfadsf', 'approaches': []}}"
      ]
     },
     "execution_count": 38,
     "metadata": {},
     "output_type": "execute_result"
    }
   ],
   "source": [
    "x"
   ]
  },
  {
   "cell_type": "code",
   "execution_count": 39,
   "id": "3d999001",
   "metadata": {},
   "outputs": [
    {
     "data": {
      "text/plain": [
       "{'pdes': 'dfadsf', 'approaches': []}"
      ]
     },
     "execution_count": 39,
     "metadata": {},
     "output_type": "execute_result"
    }
   ],
   "source": [
    "x['abc']"
   ]
  },
  {
   "cell_type": "code",
   "execution_count": 41,
   "id": "bb5fd669",
   "metadata": {},
   "outputs": [],
   "source": [
    "x['abc']['approaches'].append(5)"
   ]
  },
  {
   "cell_type": "code",
   "execution_count": 42,
   "id": "fe06bc68",
   "metadata": {},
   "outputs": [
    {
     "data": {
      "text/plain": [
       "{'abc': {'pdes': 'dfadsf', 'approaches': [5]}}"
      ]
     },
     "execution_count": 42,
     "metadata": {},
     "output_type": "execute_result"
    }
   ],
   "source": [
    "x"
   ]
  },
  {
   "cell_type": "code",
   "execution_count": null,
   "id": "c2049366",
   "metadata": {},
   "outputs": [],
   "source": []
  }
 ],
 "metadata": {
  "kernelspec": {
   "display_name": "Python 3",
   "language": "python",
   "name": "python3"
  },
  "language_info": {
   "codemirror_mode": {
    "name": "ipython",
    "version": 3
   },
   "file_extension": ".py",
   "mimetype": "text/x-python",
   "name": "python",
   "nbconvert_exporter": "python",
   "pygments_lexer": "ipython3",
   "version": "3.9.4"
  }
 },
 "nbformat": 4,
 "nbformat_minor": 5
}
